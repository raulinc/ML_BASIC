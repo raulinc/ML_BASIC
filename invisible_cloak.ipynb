{
  "nbformat": 4,
  "nbformat_minor": 0,
  "metadata": {
    "colab": {
      "name": "invisible cloak.ipynb",
      "provenance": [],
      "authorship_tag": "ABX9TyOeWkdVLEP0v8rvh4DC8SBk",
      "include_colab_link": true
    },
    "kernelspec": {
      "name": "python3",
      "display_name": "Python 3"
    }
  },
  "cells": [
    {
      "cell_type": "markdown",
      "metadata": {
        "id": "view-in-github",
        "colab_type": "text"
      },
      "source": [
        "<a href=\"https://colab.research.google.com/github/raulinc/ML_BASIC/blob/main/invisible_cloak.ipynb\" target=\"_parent\"><img src=\"https://colab.research.google.com/assets/colab-badge.svg\" alt=\"Open In Colab\"/></a>"
      ]
    },
    {
      "cell_type": "markdown",
      "metadata": {
        "id": "eW-fPJB8-odR"
      },
      "source": [
        "#Invisible Cloak Program "
      ]
    },
    {
      "cell_type": "code",
      "metadata": {
        "id": "m9eaY3_t-yfS"
      },
      "source": [
        "import cv2\r\n"
      ],
      "execution_count": 1,
      "outputs": []
    },
    {
      "cell_type": "markdown",
      "metadata": {
        "id": "VNVbHalgAaM_"
      },
      "source": [
        "Invisible cloak program is a two step code\r\n",
        "\r\n",
        "\r\n",
        "1.   It needs a back ground image \r\n",
        "2.   It replaces the colour of cloak with the background pixels\r\n",
        "\r\n",
        "\r\n"
      ]
    },
    {
      "cell_type": "code",
      "metadata": {
        "id": "dONVaQo2-4hV"
      },
      "source": [
        "#This is to Choose the camera Feed\r\n",
        "cam =cv2.VideoCaputre(0)\r\n",
        "\r\n",
        "while cam.isOpened():\r\n",
        "    ret , image = cam.read() #reading the cam feed\r\n",
        "    \r\n",
        "    if ret:\r\n",
        "        cv2.imshow(\"window\",image)\r\n",
        "        if cv2.waitkey(5) == ord('q'):\r\n",
        "            cv2.imwrite(\"backgrd.jpg\",image)\r\n",
        "            break\r\n",
        "    \r\n",
        "    cam.release()\r\n",
        "    cv2.destroyAllWindows()\r\n"
      ],
      "execution_count": null,
      "outputs": []
    },
    {
      "cell_type": "markdown",
      "metadata": {
        "id": "1LyFhgBYBWJn"
      },
      "source": [
        "\r\n",
        "Code for cloak"
      ]
    },
    {
      "cell_type": "code",
      "metadata": {
        "id": "eATqEZ3kBU3e"
      },
      "source": [
        "import cv2\r\n",
        "import numpy as np\r\n",
        "\r\n",
        "cam = cv2.VideoCapture(0)\r\n",
        "back = cv2.imread(\"backgrd.jpg\")\r\n",
        "while cam.isOpened():\r\n",
        "    ret , image = cam.read()\r\n",
        "    if ret:\r\n",
        "        #convert the RGB to HSV\r\n",
        "        hsv = cv2.cvtColor(image, cv2.COLOR_BGR2HSV)\r\n",
        "        #cv2.imshow(\"hsv\", hsv)\r\n",
        "\r\n",
        "        #how to get HSV values\r\n",
        "        #lower :hue - 10 ,100 ,100 higher : h+10 ,100 ,100\r\n",
        "        #for formulae take a look at the documentation\r\n",
        "        red  = np.unit([[[0,0,255]]])\r\n",
        "        hsv_red = cv2.cvtColor(red, cv2.COLOR_BGR2HSV) \r\n",
        "        #get HSV value of red from bgr \r\n",
        "        #red Because we are using a Red Color Cloak\r\n",
        "        #print(hsv_red)\r\n",
        "\r\n",
        "        #threshold the hsv value to get only the red colors\r\n",
        "        l_red=np.array([0,100,100])\r\n",
        "        u_red=np.array([10,255,255])\r\n",
        "\r\n",
        "        mask =  cv2.inRange(hsv, l_red,u_red)\r\n",
        "        #uncomment to see red color being highlighted\r\n",
        "        #cv2.imshow('red frame',mask)\r\n",
        "        \r\n",
        "        #all things red\r\n",
        "        part1 = cv2.bitwise_and(back, back, mask=mask)\r\n",
        "        #cv2.imshow(\"part1\",part1)\r\n",
        "\r\n",
        "        mask =cv2.bitwise_not(mask)\r\n",
        "\r\n",
        "        #all things not red\r\n",
        "        part2 = cv2.bitwise_and(image, image , mask=mask) \r\n",
        "        #cv2.imshow(\"part2\",part2)\r\n",
        "\r\n",
        "        cv2.imshow(\"cloak\", part1+part2)\r\n",
        "\r\n",
        "\r\n",
        "        if cv2.waitKey(5) == ord('q'):\r\n",
        "            break\r\n",
        "\r\n",
        "cam.release()\r\n",
        "cv2.destroyAllWindows()\r\n"
      ],
      "execution_count": null,
      "outputs": []
    }
  ]
}